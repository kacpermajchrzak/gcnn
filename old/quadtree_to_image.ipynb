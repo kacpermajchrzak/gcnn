{
 "cells": [
  {
   "cell_type": "markdown",
   "metadata": {},
   "source": [
    "# Converting Quadtrees Into Images"
   ]
  },
  {
   "cell_type": "code",
   "execution_count": 15,
   "metadata": {},
   "outputs": [],
   "source": [
    "PADDING = 0\n",
    "OUTPUT_SCALE = 1\n",
    "ERROR_THRESHOLD = 5"
   ]
  },
  {
   "cell_type": "code",
   "execution_count": 16,
   "metadata": {},
   "outputs": [],
   "source": [
    "from PIL import Image, ImageDraw, ImageStat\n",
    "\n",
    "def weighted_average(hist):\n",
    "    \"\"\"Returns the weighted color average and error from a hisogram of pixles\"\"\"\n",
    "    total = sum(hist)\n",
    "    value, error = 0, 0\n",
    "    if total > 0:\n",
    "        value = sum(i * x for i, x in enumerate(hist)) / total\n",
    "        error = sum(x * (value - i) ** 2 for i, x in enumerate(hist)) / total\n",
    "        error = error ** 0.5\n",
    "    return value, error\n",
    "\n",
    "def color_from_histogram(hist):\n",
    "    \"\"\"Returns the average rgb color from a given histogram of pixle color counts\"\"\"\n",
    "    r, re = weighted_average(hist[:256])\n",
    "    g, ge = weighted_average(hist[256:512])\n",
    "    b, be = weighted_average(hist[512:768])\n",
    "    e = re * 0.2989 + ge * 0.5870 + be * 0.1140\n",
    "    return (int(r), int(g), int(b)), e"
   ]
  },
  {
   "cell_type": "code",
   "execution_count": 17,
   "metadata": {},
   "outputs": [],
   "source": [
    "class QuadtreeNode(object):\n",
    "    \"\"\"Node for Quadtree that holds a subsection of an image and \n",
    "        information about that section\"\"\"\n",
    "\n",
    "    def __init__(self, img, box, depth):\n",
    "        self.box = box  # (left, top, right, bottom)\n",
    "        self.depth = depth\n",
    "        self.children = None  # tl, tr, bl, br\n",
    "        self.leaf = False\n",
    "\n",
    "        # Gets the nodes average color\n",
    "        image = img.crop(box)\n",
    "        self.width, self.height = image.size  # (width, height)\n",
    "        hist = image.histogram()\n",
    "        self.color, self.error = color_from_histogram(hist)  # (r, g, b), error\n",
    "        \n",
    "    def is_leaf(self):\n",
    "            \"\"\"Determins if a the node is a leaf\"\"\"\n",
    "            return self.leaf\n",
    "        \n",
    "    def split(self, img):\n",
    "        \"\"\"Splits the given image section into four equal image boxes\"\"\"\n",
    "        l, t, r, b = self.box\n",
    "        lr = l + (r - l) / 2\n",
    "        tb = t + (b - t) / 2\n",
    "        tl = QuadtreeNode(img, (l, t, lr, tb), self.depth+1)\n",
    "        tr = QuadtreeNode(img, (lr, t, r, tb), self.depth+1)\n",
    "        bl = QuadtreeNode(img, (l, tb, lr, b), self.depth+1)\n",
    "        br = QuadtreeNode(img, (lr, tb, r, b), self.depth+1)\n",
    "        self.children = [tl, tr, bl, br]"
   ]
  },
  {
   "cell_type": "code",
   "execution_count": 18,
   "metadata": {},
   "outputs": [],
   "source": [
    "class Quadtree(object):\n",
    "    \"\"\"Tree that has nodes with at most four child nodes that hold \n",
    "        sections of an image where there at most n leaf nodes where\n",
    "        n is the number of pixles in the image\"\"\"\n",
    "\n",
    "    def __init__(self, image, max_depth=1024):\n",
    "        self.root = QuadtreeNode(image, image.getbbox(), 0)\n",
    "        self.width, self.height = image.size\n",
    "        self.max_depth = 0\n",
    "        \n",
    "        self._build_tree(image, self.root, max_depth)\n",
    "\n",
    "    def _build_tree(self, image, node, max_depth):\n",
    "        \"\"\"Recursively adds nodes untill max_depth is reached or error is less than 5\"\"\"\n",
    "        if (node.depth >= max_depth) or (node.error <= ERROR_THRESHOLD):\n",
    "            if node.depth > self.max_depth:\n",
    "                self.max_depth = node.depth\n",
    "            node.leaf = True\n",
    "            return\n",
    "        \n",
    "        node.split(image)\n",
    "        for child in node.children:\n",
    "            self._build_tree(image, child, max_depth)\n",
    "        \n",
    "    \n",
    "    def get_leaf_nodes(self, depth):\n",
    "        \"\"\"Gets all the nodes on a given depth/level\"\"\"\n",
    "        def get_leaf_nodes_recusion(tree, node, depth, func):\n",
    "            \"\"\"Recusivley gets leaf nodes based on whether a node is a leaf or the given depth is reached\"\"\"\n",
    "            if node.leaf is True or node.depth == depth:\n",
    "                func(node)\n",
    "            elif node.children is not None:\n",
    "                for child in node.children:\n",
    "                    get_leaf_nodes_recusion(tree, child, depth, func)\n",
    "\n",
    "            if depth > tree.max_depth:\n",
    "                raise ValueError('A depth larger than the trees depth was given')\n",
    "\n",
    "        leaf_nodes = []\n",
    "        get_leaf_nodes_recusion(self, self.root, depth, leaf_nodes.append)\n",
    "        return leaf_nodes\n",
    "        \n",
    "\n",
    "    def _create_image_from_depth(self, depth):\n",
    "        \"\"\"Creates a Pillow image object from a given level/depth of the tree\"\"\"\n",
    "        m = OUTPUT_SCALE\n",
    "        dx, dy = (PADDING, PADDING) # padding for each image section\n",
    "        image = Image.new('RGB', (int(self.width * m + dx), int(self.height * m + dy)))\n",
    "        draw = ImageDraw.Draw(image)\n",
    "        draw.rectangle((0, 0, self.width * m + dx, self.height * m + dy), (0, 0, 0))\n",
    "\n",
    "        leaf_nodes = self.get_leaf_nodes(depth)\n",
    "        for node in leaf_nodes:\n",
    "            l, t, r, b = node.box\n",
    "            box = (l * m + dx, t * m + dy, r * m - 1, b * m - 1)\n",
    "            draw.rectangle(box, node.color)\n",
    "        return image\n",
    "\n",
    "    def render_at_depth(self, depth=0):\n",
    "        \"\"\"Renders the image of a given depth/level\"\"\"\n",
    "        if depth > self.max_depth:\n",
    "            raise ValueError('A depth larger than the trees depth was given')\n",
    "\n",
    "        image = self._create_image_from_depth(depth)\n",
    "        image.show()\n",
    "\n",
    "    def create_gif(self, file_name, duration=1000, loop=0):\n",
    "        \"\"\"Creates a gif at the given filename from each level of the tree\"\"\"\n",
    "        images = []\n",
    "        end_product_image = self._create_image_from_depth(self.max_depth)\n",
    "        for i in range(self.max_depth):\n",
    "            image = self._create_image_from_depth(i)\n",
    "            images.append(image)\n",
    "        # Add extra final produc images to allow for seeing result longer\n",
    "        for _ in range(4):\n",
    "            images.append(end_product_image)\n",
    "        # Save the images as a gif using Pillow\n",
    "        images[0].save(\n",
    "            file_name, \n",
    "            save_all=True, \n",
    "            append_images=images[1:],\n",
    "            duration=duration, loop=loop)"
   ]
  },
  {
   "cell_type": "code",
   "execution_count": 20,
   "metadata": {
    "scrolled": false
   },
   "outputs": [],
   "source": [
    "image = Image.open('data/elephant.jpg').convert('RGB')\n",
    "image = image.resize((image.width // 8, image.height // 8))\n",
    "tree = Quadtree(image)"
   ]
  },
  {
   "cell_type": "code",
   "execution_count": 21,
   "metadata": {},
   "outputs": [],
   "source": [
    "tree.render_at_depth(8)"
   ]
  },
  {
   "cell_type": "code",
   "execution_count": null,
   "metadata": {},
   "outputs": [
    {
     "data": {
      "text/plain": [
       "12"
      ]
     },
     "execution_count": 7,
     "metadata": {},
     "output_type": "execute_result"
    }
   ],
   "source": [
    "tree.max_depth"
   ]
  },
  {
   "cell_type": "code",
   "execution_count": null,
   "metadata": {},
   "outputs": [
    {
     "name": "stdout",
     "output_type": "stream",
     "text": [
      "Processing frame: 1\n",
      "Processing frame: 2\n"
     ]
    }
   ],
   "source": [
    "# Loading a video\n",
    "import cv2\n",
    "cap = cv2.VideoCapture('data/video_jp_trim.mp4')\n",
    "\n",
    "# Processing the video frame by frame\n",
    "i: int = 1\n",
    "while cap.isOpened():\n",
    "    ret, frame = cap.read()\n",
    "    frame = cv2.resize(frame, (254, 254))\n",
    "        \n",
    "    if not ret:\n",
    "        break\n",
    "\n",
    "    print('Processing frame:', i)\n",
    "    frame_pil = Image.fromarray(cv2.cvtColor(frame, cv2.COLOR_BGR2RGB))\n",
    "    tree = Quadtree(frame_pil)\n",
    "    tree.render_at_depth(6)\n",
    "\n",
    "\n",
    "    i += 1\n",
    "    if i == 3:\n",
    "        break\n",
    "# Zwolnienie zasobów\n",
    "cap.release()\n",
    "cv2.destroyAllWindows()"
   ]
  }
 ],
 "metadata": {
  "kernelspec": {
   "display_name": "Python 3",
   "language": "python",
   "name": "python3"
  },
  "language_info": {
   "codemirror_mode": {
    "name": "ipython",
    "version": 3
   },
   "file_extension": ".py",
   "mimetype": "text/x-python",
   "name": "python",
   "nbconvert_exporter": "python",
   "pygments_lexer": "ipython3",
   "version": "3.9.12"
  }
 },
 "nbformat": 4,
 "nbformat_minor": 2
}
